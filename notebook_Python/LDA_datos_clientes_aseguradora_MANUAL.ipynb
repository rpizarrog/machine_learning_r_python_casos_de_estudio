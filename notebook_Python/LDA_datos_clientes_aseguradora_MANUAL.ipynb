{
  "nbformat": 4,
  "nbformat_minor": 0,
  "metadata": {
    "colab": {
      "provenance": [],
      "authorship_tag": "ABX9TyNVkkxirD3rM6dijIMzj9Tr",
      "include_colab_link": true
    },
    "kernelspec": {
      "name": "python3",
      "display_name": "Python 3"
    },
    "language_info": {
      "name": "python"
    }
  },
  "cells": [
    {
      "cell_type": "markdown",
      "metadata": {
        "id": "view-in-github",
        "colab_type": "text"
      },
      "source": [
        "<a href=\"https://colab.research.google.com/github/rpizarrog/machine_learning_r_python_casos_de_estudio/blob/main/notebook_Python/LDA_datos_clientes_aseguradora_MANUAL.ipynb\" target=\"_parent\"><img src=\"https://colab.research.google.com/assets/colab-badge.svg\" alt=\"Open In Colab\"/></a>"
      ]
    },
    {
      "cell_type": "markdown",
      "source": [
        "# Modelo LDA con datos de clientes de aseguradora\n",
        "\n",
        "# Objetivo\n",
        "\n",
        "Implementar paso a paso modelo LDA con datos inicales que simulan valores de clientes de una aseguradora."
      ],
      "metadata": {
        "id": "_l5gzS6K6Ls_"
      }
    },
    {
      "cell_type": "markdown",
      "source": [
        "# Inicializar datos\n"
      ],
      "metadata": {
        "id": "bcKnSLI8gTWq"
      }
    },
    {
      "cell_type": "code",
      "source": [
        "import pandas as pd\n",
        "import numpy as np\n",
        "# Evitar notación científica y fijar decimales\n",
        "np.set_printoptions(suppress=True, precision=4)\n",
        "\n",
        "# Datos iniciales\n",
        "valores = {\n",
        "    \"id\": [1,2,3,4,5,6,7,8,9,10],\n",
        "    \"edad\": [25,28,32,29,35,50,55,60,48,52],\n",
        "    \"ingresos\": [15000,18000,20000,16000,21000,28000,30000,35000,27000,29000],\n",
        "    \"hijos\": [0,1,2,1,2,3,2,4,3,2],\n",
        "    \"gastos_medicos\": [2000,2500,3000,2200,3100,6000,7000,8000,5500,6200],\n",
        "    \"ejercicio\": [6,5,3,4,2,1,0,1,2,0],\n",
        "    \"imc\": [22,24,27,23,28,30,31,29,28,32],\n",
        "    \"clase\": [\"Joven\",\"Joven\",\"Joven\",\"Joven\",\"Joven\",\"Mayor\",\"Mayor\",\"Mayor\",\"Mayor\",\"Mayor\"]\n",
        "}\n",
        "datos = pd.DataFrame(valores)\n",
        "print(datos.head())\n",
        "\n"
      ],
      "metadata": {
        "colab": {
          "base_uri": "https://localhost:8080/"
        },
        "id": "JBjajbMdgMD7",
        "outputId": "6c10b20a-c4e2-4523-9d5e-742017717ecf"
      },
      "execution_count": 4,
      "outputs": [
        {
          "output_type": "stream",
          "name": "stdout",
          "text": [
            "   id  edad  ingresos  hijos  gastos_medicos  ejercicio  imc  clase\n",
            "0   1    25     15000      0            2000          6   22  Joven\n",
            "1   2    28     18000      1            2500          5   24  Joven\n",
            "2   3    32     20000      2            3000          3   27  Joven\n",
            "3   4    29     16000      1            2200          4   23  Joven\n",
            "4   5    35     21000      2            3100          2   28  Joven\n"
          ]
        }
      ]
    },
    {
      "cell_type": "markdown",
      "source": [
        "# Separar variables numéricas y la clase\n"
      ],
      "metadata": {
        "id": "TpwUVE1hgYUC"
      }
    },
    {
      "cell_type": "code",
      "source": [
        "numericas = datos[[\"edad\",\"ingresos\",\"hijos\",\"gastos_medicos\",\"ejercicio\",\"imc\"]].values\n",
        "clase = datos[\"clase\"].values\n",
        "clases = np.unique(clase)\n",
        "print(numericas)\n",
        "print(clases)\n"
      ],
      "metadata": {
        "colab": {
          "base_uri": "https://localhost:8080/"
        },
        "id": "R1T-IaQPgd6y",
        "outputId": "58692705-ae5e-4024-eecc-ca7376646928"
      },
      "execution_count": 5,
      "outputs": [
        {
          "output_type": "stream",
          "name": "stdout",
          "text": [
            "[[   25 15000     0  2000     6    22]\n",
            " [   28 18000     1  2500     5    24]\n",
            " [   32 20000     2  3000     3    27]\n",
            " [   29 16000     1  2200     4    23]\n",
            " [   35 21000     2  3100     2    28]\n",
            " [   50 28000     3  6000     1    30]\n",
            " [   55 30000     2  7000     0    31]\n",
            " [   60 35000     4  8000     1    29]\n",
            " [   48 27000     3  5500     2    28]\n",
            " [   52 29000     2  6200     0    32]]\n",
            "['Joven' 'Mayor']\n"
          ]
        }
      ]
    },
    {
      "cell_type": "markdown",
      "source": [
        "# Calcular medias por clase\n"
      ],
      "metadata": {
        "id": "p8FKgOnLg-7r"
      }
    },
    {
      "cell_type": "code",
      "source": [
        "# Diccionario para guardar medias por clase\n",
        "medias_clase = {}\n",
        "\n",
        "for c in clases:\n",
        "    Xc = numericas[clase==c]\n",
        "    medias_clase[c] = Xc.mean(axis=0)\n",
        "\n",
        "print(\"Medias por clase:\")\n",
        "for c, mu in medias_clase.items():\n",
        "    print(c, mu)\n",
        "\n"
      ],
      "metadata": {
        "colab": {
          "base_uri": "https://localhost:8080/"
        },
        "id": "bhTnDPythAkM",
        "outputId": "7d6b988b-dbd4-4000-c7a6-3be801d7b5cf"
      },
      "execution_count": 24,
      "outputs": [
        {
          "output_type": "stream",
          "name": "stdout",
          "text": [
            "Medias por clase:\n",
            "Joven [   29.8 18000.      1.2  2560.      4.     24.8]\n",
            "Mayor [   53.  29800.      2.8  6540.      0.8    30. ]\n"
          ]
        }
      ]
    },
    {
      "cell_type": "markdown",
      "source": [
        "# Construcción de SW\n"
      ],
      "metadata": {
        "id": "LBuWohaWhRFT"
      }
    },
    {
      "cell_type": "code",
      "source": [
        "# Inicializar matriz SW\n",
        "d = numericas.shape[1]   # número de variables numéricas, 6\n",
        "SW = np.zeros((d,d))\n",
        "\n",
        "for c in clases:\n",
        "    Xc = numericas[clase==c]\n",
        "    mu_c = medias_clase[c]\n",
        "    # Matriz centrada de la clase\n",
        "    Mc = Xc - mu_c  # Matriz de cada clase\n",
        "    # Acumular productos exteriores\n",
        "    SW += Mc.T @ Mc # Se construye el producto de ambas matrices se multiplica la matriz Mc por su transpuesta. El símbolo @ significa multiplicar matrices y Mc.T es la matriz transpuesta de M.\n",
        "print(\"\\nMatriz de dispersión dentro de clases SW:\")\n",
        "print(np.round(SW,2))\n",
        "\n",
        "\n",
        "\n",
        "\n"
      ],
      "metadata": {
        "colab": {
          "base_uri": "https://localhost:8080/"
        },
        "id": "NkkCFzN0hS0a",
        "outputId": "727d056f-622a-415a-c9b3-5520224fe0cc"
      },
      "execution_count": 25,
      "outputs": [
        {
          "output_type": "stream",
          "name": "stdout",
          "text": [
            "\n",
            "Matriz de dispersión dentro de clases SW:\n",
            "[[     146.8    93000.        18.2    25160.       -30.        40.8]\n",
            " [   93000.  64800000.     13800.  16740000.    -16200.     25000. ]\n",
            " [      18.2    13800.         5.6     2880.        -3.2        4.2]\n",
            " [   25160.  16740000.      2880.   4764000.     -3860.      5360. ]\n",
            " [     -30.    -16200.        -3.2    -3860.        12.8      -20. ]\n",
            " [      40.8    25000.         4.2     5360.       -20.        36.8]]\n"
          ]
        }
      ]
    },
    {
      "cell_type": "markdown",
      "source": [
        "# Construcción SB\n"
      ],
      "metadata": {
        "id": "sjADd8c9JjVu"
      }
    },
    {
      "cell_type": "code",
      "source": [
        "# Calcular SB\n",
        "cols = [\"edad\",\"ingresos\",\"hijos\",\"gastos_medicos\",\"ejercicio\",\"imc\"]\n",
        "mu_global = numericas.mean(axis=0) # Variables previamente identificadas\n",
        "SB = np.zeros((d, d)) # Inicializar la matriz vacía con ceros\n",
        "\n",
        "print (\"Media global de variables\")\n",
        "print(mu_global)\n",
        "\n",
        "# Se recorre cada clase (\"Joven\", \"Mayor\")\n",
        "# Extraer todas las observaciones de la clase actual (submatriz nk × d)\n",
        "# Calcular el vector de medias de esa clase (d valores)\n",
        "# Contar cuántas observaciones hay en la clase (nk)\n",
        "# Construir Vector columna (d × 1) con la diferencia entre media de clase y media global\n",
        "# Acumular en SB: nk * producto exterior diff * diff^T (d × d)\n",
        "# Presentar la matriz SB en data.frame\n",
        "# Vector columna (d × 1) con la diferencia entre media de clase y media global\n",
        "\n",
        "for c in clases:\n",
        "    Xc = numericas[clase == c]\n",
        "    mu_c = Xc.mean(axis=0)\n",
        "    nk = Xc.shape[0]\n",
        "    diff = (mu_c - mu_global).reshape(-1, 1)\n",
        "    SB += nk * (diff @ diff.T)\n",
        "\n",
        "SB_df = pd.DataFrame(np.round(SB, 2), index=cols, columns=cols)\n",
        "print(\"\\nMatriz de dispersión entre clases SB (redondeada):\")\n",
        "print(SB_df.to_string())\n",
        "\n"
      ],
      "metadata": {
        "colab": {
          "base_uri": "https://localhost:8080/"
        },
        "id": "YzI5XAv3Jk1W",
        "outputId": "38f8408e-a1ba-4abf-d094-9790d96fc9a4"
      },
      "execution_count": 26,
      "outputs": [
        {
          "output_type": "stream",
          "name": "stdout",
          "text": [
            "Media global de variables\n",
            "[   41.4 23900.      2.   4550.      2.4    27.4]\n",
            "\n",
            "Matriz de dispersión entre clases SB (redondeada):\n",
            "                    edad     ingresos    hijos  gastos_medicos  ejercicio       imc\n",
            "edad              1345.6     684400.0     92.8        230840.0     -185.6     301.6\n",
            "ingresos        684400.0  348100000.0  47200.0     117410000.0   -94400.0  153400.0\n",
            "hijos               92.8      47200.0      6.4         15920.0      -12.8      20.8\n",
            "gastos_medicos  230840.0  117410000.0  15920.0      39601000.0   -31840.0   51740.0\n",
            "ejercicio         -185.6     -94400.0    -12.8        -31840.0       25.6     -41.6\n",
            "imc                301.6     153400.0     20.8         51740.0      -41.6      67.6\n"
          ]
        }
      ]
    },
    {
      "cell_type": "markdown",
      "source": [
        "# Vector de diferencias de medias entre clases\n",
        "\n",
        "\n"
      ],
      "metadata": {
        "id": "5Lffq7_B-fVV"
      }
    },
    {
      "cell_type": "code",
      "source": [
        "mu_J = numericas[clase==\"Joven\"].mean(axis=0)\n",
        "mu_M = numericas[clase==\"Mayor\"].mean(axis=0)\n",
        "d = (mu_M - mu_J)  # vector 6x1 (lo dejamos como 1D y lo re-formamos cuando se necesite)\n",
        "\n",
        "print(\"Media Joven (mu_J):\", np.round(mu_J, 4))\n",
        "print(\"Media Mayor (mu_M):\", np.round(mu_M, 4))\n",
        "print(\"d = mu_M - mu_J   :\", np.round(d,    4), \"\\n\")\n"
      ],
      "metadata": {
        "colab": {
          "base_uri": "https://localhost:8080/"
        },
        "id": "XpUX-MuTh2AT",
        "outputId": "846aefa0-d3b0-400a-cf98-5eeddfe937a0"
      },
      "execution_count": 27,
      "outputs": [
        {
          "output_type": "stream",
          "name": "stdout",
          "text": [
            "Media Joven (mu_J): [   29.8 18000.      1.2  2560.      4.     24.8]\n",
            "Media Mayor (mu_M): [   53.  29800.      2.8  6540.      0.8    30. ]\n",
            "d = mu_M - mu_J   : [   23.2 11800.      1.6  3980.     -3.2     5.2] \n",
            "\n"
          ]
        }
      ]
    },
    {
      "cell_type": "markdown",
      "source": [
        "# Sistema de ecuaciones\n"
      ],
      "metadata": {
        "id": "rrvrhx7Jh6vT"
      }
    },
    {
      "cell_type": "code",
      "source": [
        "w = np.linalg.solve(SW, d)     # w = SW^{-1} d\n",
        "\n",
        "print(\"Solución w (sin normalizar):\")\n",
        "print(np.round(w, 6))\n",
        "\n",
        "# Normalizar w (opcional, para reportar)\n",
        "w_norm = w / np.linalg.norm(w)\n",
        "print(\"\\nw normalizada (||w||=1):\")\n",
        "print(np.round(w_norm, 4))\n"
      ],
      "metadata": {
        "colab": {
          "base_uri": "https://localhost:8080/"
        },
        "id": "AI-xII35h9pT",
        "outputId": "81635742-566b-45eb-cc87-d8dc086df23c"
      },
      "execution_count": 28,
      "outputs": [
        {
          "output_type": "stream",
          "name": "stdout",
          "text": [
            "Solución w (sin normalizar):\n",
            "[14.672  -0.0175  9.2892 -0.0092 35.4655 15.3361]\n",
            "\n",
            "w normalizada (||w||=1):\n",
            "[ 0.3463 -0.0004  0.2193 -0.0002  0.8372  0.362 ]\n"
          ]
        }
      ]
    },
    {
      "cell_type": "markdown",
      "source": [
        "# Razón de Fisher\n"
      ],
      "metadata": {
        "id": "h_QNn87jiGMT"
      }
    },
    {
      "cell_type": "code",
      "source": [
        "numerador = float(w.T @ SB @ w)   # w^T SB w\n",
        "denominador = float(w.T @ SW @ w)   # w^T SW w\n",
        "J = numerador / denominador               # razón de Fisher\n",
        "\n",
        "print(\"Numerador (w^T SB w)      :\", numerador)\n",
        "print(\"Denominador (w^T SW w)    :\", denominador)\n",
        "print(\"Razón de Fisher J(w)      :\", J)"
      ],
      "metadata": {
        "colab": {
          "base_uri": "https://localhost:8080/"
        },
        "id": "5KiYZ-veiIxj",
        "outputId": "9bbef107-3a67-4d1e-827c-9ea56797032b"
      },
      "execution_count": 18,
      "outputs": [
        {
          "output_type": "stream",
          "name": "stdout",
          "text": [
            "Numerador (w^T SB w)      : 15243.327817868909\n",
            "Denominador (w^T SW w)    : 78.08540918217618\n",
            "Razón de Fisher J(w)      : 195.2135229554302\n"
          ]
        }
      ]
    },
    {
      "cell_type": "markdown",
      "source": [
        "# D1\n"
      ],
      "metadata": {
        "id": "aYhK2j5AY5Rt"
      }
    },
    {
      "cell_type": "code",
      "source": [
        "import numpy as np\n",
        "\n",
        "X = numericas\n",
        "print(X)\n",
        "\n",
        "# Aseguramos que w_norm está normalizado\n",
        "w_norm = w / np.linalg.norm(w)\n",
        "print(w_norm)\n",
        "\n",
        "# Proyección de cada fila de X sobre w_norm\n",
        "D1 = X @ w_norm   # equivalente a X %*% w_norm en R\n",
        "print(\"\\nD1 (coordenadas en la primera dimensión LDA):\")\n",
        "print(np.round(D1, 4))\n"
      ],
      "metadata": {
        "colab": {
          "base_uri": "https://localhost:8080/"
        },
        "id": "ePk77hbtY8BR",
        "outputId": "1427fb8a-b675-42bb-d54c-07724f28ea39"
      },
      "execution_count": 38,
      "outputs": [
        {
          "output_type": "stream",
          "name": "stdout",
          "text": [
            "[[   25 15000     0  2000     6    22]\n",
            " [   28 18000     1  2500     5    24]\n",
            " [   32 20000     2  3000     3    27]\n",
            " [   29 16000     1  2200     4    23]\n",
            " [   35 21000     2  3100     2    28]\n",
            " [   50 28000     3  6000     1    30]\n",
            " [   55 30000     2  7000     0    31]\n",
            " [   60 35000     4  8000     1    29]\n",
            " [   48 27000     3  5500     2    28]\n",
            " [   52 29000     2  6200     0    32]]\n",
            "[ 0.3463 -0.0004  0.2193 -0.0002  0.8372  0.362 ]\n",
            "\n",
            "D1 (coordenadas en la primera dimensión LDA):\n",
            "[15.0056 14.8009 14.8812 14.8407 15.0096 16.7851 16.7779 16.7754 16.7279\n",
            " 16.6882]\n"
          ]
        }
      ]
    },
    {
      "cell_type": "markdown",
      "source": [
        "# Calcular la matriz centrada"
      ],
      "metadata": {
        "id": "SqRK4kNgSbNT"
      }
    },
    {
      "cell_type": "code",
      "source": [
        "import numpy as np\n",
        "\n",
        "# Ya tienes X como variables numéricas\n",
        "# Ejemplo: X = datos[[\"edad\",\"ingresos\",\"hijos\",\"gastos_medicos\",\"ejercicio\",\"imc\"]].values\n",
        "X = numericas\n",
        "# 1) Calcular media global por columna (como colMeans en R)\n",
        "mu_global = X.mean(axis=0)\n",
        "\n",
        "# 2) Restar la media a cada columna (centrar los datos)\n",
        "Xc = X - mu_global   # equivalente a scale(X, center=TRUE, scale=FALSE)\n",
        "\n",
        "# 3) Mostrar resultados\n",
        "print(\"Media global de cada variable:\", np.round(mu_global, 4))\n",
        "print(\"\\nMatriz centrada (Xc):\")\n",
        "print(np.round(Xc, 2))\n"
      ],
      "metadata": {
        "colab": {
          "base_uri": "https://localhost:8080/"
        },
        "id": "0oWiq_xnSLMQ",
        "outputId": "159ef81b-7ef7-487e-a555-807108fdec51"
      },
      "execution_count": 42,
      "outputs": [
        {
          "output_type": "stream",
          "name": "stdout",
          "text": [
            "Media global de cada variable: [   41.4 23900.      2.   4550.      2.4    27.4]\n",
            "\n",
            "Matriz centrada (Xc):\n",
            "[[  -16.4 -8900.     -2.  -2550.      3.6    -5.4]\n",
            " [  -13.4 -5900.     -1.  -2050.      2.6    -3.4]\n",
            " [   -9.4 -3900.      0.  -1550.      0.6    -0.4]\n",
            " [  -12.4 -7900.     -1.  -2350.      1.6    -4.4]\n",
            " [   -6.4 -2900.      0.  -1450.     -0.4     0.6]\n",
            " [    8.6  4100.      1.   1450.     -1.4     2.6]\n",
            " [   13.6  6100.      0.   2450.     -2.4     3.6]\n",
            " [   18.6 11100.      2.   3450.     -1.4     1.6]\n",
            " [    6.6  3100.      1.    950.     -0.4     0.6]\n",
            " [   10.6  5100.      0.   1650.     -2.4     4.6]]\n"
          ]
        }
      ]
    },
    {
      "cell_type": "markdown",
      "source": [
        "# Autovalores y autovectores usando covarianza"
      ],
      "metadata": {
        "id": "KCHxekYIFz_5"
      }
    },
    {
      "cell_type": "code",
      "source": [
        "import numpy as np\n",
        "\n",
        "\n",
        "# Covarianza\n",
        "S = np.cov(Xc, rowvar=False)\n",
        "\n",
        "# Autovalores y autovectores\n",
        "eigvals, eigvecs = np.linalg.eigh(S)\n",
        "\n",
        "# Ordenar de mayor a menor\n",
        "idx = np.argsort(eigvals)[::-1]\n",
        "eigvals = eigvals[idx]\n",
        "eigvecs = eigvecs[:, idx]\n",
        "\n",
        "print(\"Autovalores:\", eigvals)\n",
        "pc1 = eigvecs[:,0]\n",
        "print(\"PC1 (Python):\", pc1)\n",
        "\n"
      ],
      "metadata": {
        "colab": {
          "base_uri": "https://localhost:8080/"
        },
        "id": "VXiaJ1OnPrEu",
        "outputId": "7b397016-7413-4fd0-92c9-92f6d137d8a5"
      },
      "execution_count": 41,
      "outputs": [
        {
          "output_type": "stream",
          "name": "stdout",
          "text": [
            "Autovalores: [50729013.2534    78386.389         4.4753        0.9392        0.1243\n",
            "        0.0631]\n",
            "PC1 (Python): [-0.0018 -0.9509 -0.0001 -0.3095  0.0003 -0.0004]\n"
          ]
        }
      ]
    },
    {
      "cell_type": "markdown",
      "source": [
        "# Ortogonolizar\n"
      ],
      "metadata": {
        "id": "LQMPC2UGXkm4"
      }
    },
    {
      "cell_type": "code",
      "source": [
        "print(\"Ortogonalizar\")\n",
        "\n",
        "# Asegurar w normalizado (equivalente a w_norm en R)\n",
        "w_norm = w / np.linalg.norm(w)\n",
        "\n",
        "# Proyección de pc1 sobre w y resta: orto = pc1 - (pc1·w_norm) w_norm\n",
        "orto = pc1 - np.dot(pc1, w_norm) * w_norm\n",
        "print(\"Vector 'orto' (pc1 ortogonal a w):\\n\", np.round(orto, 6))"
      ],
      "metadata": {
        "colab": {
          "base_uri": "https://localhost:8080/"
        },
        "id": "-f9h0kr7XmyD",
        "outputId": "27fbad30-0814-42b0-ec3f-6ca98f126011"
      },
      "execution_count": 23,
      "outputs": [
        {
          "output_type": "stream",
          "name": "stdout",
          "text": [
            "Ortogonalizar\n",
            "Vector 'orto' (pc1 ortogonal a w):\n",
            " [-0.0017 -0.9509 -0.0001 -0.3095  0.0004 -0.0004]\n"
          ]
        }
      ]
    },
    {
      "cell_type": "markdown",
      "source": [
        "# Proyectar\n"
      ],
      "metadata": {
        "id": "69tju9n-Xxj5"
      }
    },
    {
      "cell_type": "code",
      "source": [
        "# --------------------------------------------\n",
        "# 2) Normalizar la dirección ortogonal (D2_antes)\n",
        "# --------------------------------------------\n",
        "D2_antes = orto / np.linalg.norm(orto)\n",
        "print(\"\\nD2_antes (dirección unitaria ortogonal a w):\\n\", np.round(D2_antes, 6))\n",
        "\n",
        "# --------------------------------------------\n",
        "# 3) Proyección de los datos sobre D2 (coordenadas)\n",
        "# --------------------------------------------\n",
        "# Equivalente a: D2 <- X %*% D2_antes en R\n",
        "# \"¿Qué hace?\" -> multiplica la matriz de datos X (Nxd) por el vector D2_antes (dx1)\n",
        "# y obtiene un vector (N,) con la coordenada de cada registro en el eje D2.\n",
        "D2 = X @ D2_antes\n",
        "print(\"\\nD2 (coordenadas proyectadas, tamaño N):\\n\", np.round(D2, 4))"
      ],
      "metadata": {
        "id": "Eu8DX-IJXy6C"
      },
      "execution_count": null,
      "outputs": []
    },
    {
      "cell_type": "markdown",
      "source": [
        "# Dimensiones\n"
      ],
      "metadata": {
        "id": "B3u-cTovX59z"
      }
    },
    {
      "cell_type": "code",
      "source": [
        "\n",
        "# Armar DataFrame de dimensiones\n",
        "\n",
        "dimensiones = pd.DataFrame({\n",
        "    \"id\": datos[\"id\"].values,\n",
        "    \"clase\": clase,\n",
        "    \"D1\": np.round(D1, 4),\n",
        "    \"D2\": np.round(D2, 4)\n",
        "})\n",
        "print(\"\\nDimensiones (primeras filas):\")\n",
        "print(dimensiones)"
      ],
      "metadata": {
        "id": "HrcuUr9RX8QB"
      },
      "execution_count": null,
      "outputs": []
    },
    {
      "cell_type": "markdown",
      "source": [
        "# Graficos de dimensiones\n"
      ],
      "metadata": {
        "id": "2kXK_J4qZO7C"
      }
    },
    {
      "cell_type": "code",
      "source": [
        "import matplotlib.pyplot as plt\n",
        "plt.figure()\n",
        "for etiqueta in np.unique(clase):\n",
        "    mask = (dimensiones[\"clase\"] == etiqueta)\n",
        "    plt.scatter(dimensiones.loc[mask, \"D1\"], dimensiones.loc[mask, \"D2\"], label=str(etiqueta))\n",
        "    # Etiquetas de puntos con el id\n",
        "    for _, row in dimensiones.loc[mask].iterrows():\n",
        "        plt.text(row[\"D1\"], row[\"D2\"], str(int(row[\"id\"])), fontsize=8, va='bottom')\n",
        "\n",
        "plt.xlabel(\"Eje 1: LDA (w)\")\n",
        "plt.ylabel(\"Eje 2: Ortogonal a w (de PCA)\")\n",
        "plt.title(\"Proyección 2D: LDA (2 clases) + eje ortogonal\")\n",
        "plt.legend()\n",
        "plt.tight_layout()\n",
        "plt.show()"
      ],
      "metadata": {
        "id": "gdJh6w_FZRYY"
      },
      "execution_count": null,
      "outputs": []
    },
    {
      "cell_type": "markdown",
      "source": [
        "# Ejercicio ortogonal de dos vectores\n"
      ],
      "metadata": {
        "id": "l8qaiLGDBnPb"
      }
    },
    {
      "cell_type": "code",
      "source": [
        "import numpy as np\n",
        "\n",
        "# --- 1. Definir los vectores de 5 dimensiones ---\n",
        "u = np.array([2, -1, 3, 0, 4])\n",
        "v = np.array([1, 2, 1, 3, 1])\n",
        "\n",
        "# --- 2. Implementar la fórmula de Gram-Schmidt ---\n",
        "\n",
        "# 2a. Calcular el producto escalar (numerador: u · v)\n",
        "u_dot_v = np.dot(u, v)\n",
        "# Resultado: 7\n",
        "\n",
        "# 2b. Calcular el cuadrado de la norma (denominador: ||v||^2)\n",
        "v_norm_sq = np.dot(v, v)\n",
        "# Resultado: 16\n",
        "\n",
        "# 2c. Calcular el escalar (coeficiente de la proyección)\n",
        "escalar = u_dot_v / v_norm_sq\n",
        "# Resultado: 7/16 = 0.4375\n",
        "\n",
        "# 2d. Calcular la Proyección Vectorial (Proy_v u)\n",
        "proyeccion = escalar * v\n",
        "# Resultado: [0.4375, 0.875, 0.4375, 1.3125, 0.4375]\n",
        "\n",
        "# 2e. Calcular el vector Ortogonal (u_perpendicular = u - Proy_v u)\n",
        "u_ortogonal = u - proyeccion\n",
        "\n",
        "print(\"--- Vectores ---\")\n",
        "print(f\"Vector V: {v}\")\n",
        "print(f\"Vector U: {u}\")\n",
        "print(f\"\\nVector U ortogonal a V (Gram-Schmidt):\")\n",
        "print(u_ortogonal)\n",
        "\n",
        "# --- 3. Comprobación de Ortogonalidad ---\n",
        "# El producto escalar del resultado con V debe ser 0.\n",
        "comprobacion = np.dot(u_ortogonal, v)\n",
        "\n",
        "print(\"\\n--- Comprobación ---\")\n",
        "# El resultado es un número extremadamente cercano a cero debido a la precisión.\n",
        "print(f\"Producto Escalar (U_ortogonal · V): {comprobacion}\")"
      ],
      "metadata": {
        "id": "9eyB4keHBpSZ"
      },
      "execution_count": null,
      "outputs": []
    },
    {
      "cell_type": "markdown",
      "source": [
        "# Autovalores y primer componente de matriz centrada\n"
      ],
      "metadata": {
        "id": "BfNoTjNMPksx"
      }
    },
    {
      "cell_type": "code",
      "source": [
        "# Correlacion de v y y"
      ],
      "metadata": {
        "id": "3nl3yNzxHhxW"
      },
      "execution_count": null,
      "outputs": []
    },
    {
      "cell_type": "code",
      "source": [
        "import numpy as np\n",
        "\n",
        "# --- Vectores usados en el ejercicio Gram-Schmidt ---\n",
        "\n",
        "# --- Verificación 1: Ortogonalidad (Producto Escalar) ---\n",
        "# Debe ser CERO.\n",
        "dot_product_check = np.dot(u_ortogonal, v)\n",
        "\n",
        "print(\"--- Producto Escalar (u_ortogonal · v) ---\")\n",
        "print(f\"Producto Escalar: {dot_product_check:.10f} (Cercano a 0, ¡es Ortogonal!)\")\n",
        "print(\"-\" * 50)\n",
        "\n",
        "# ----------------------------------------------------\n",
        "# --- 2. CÁLCULO DE CORRELACIONES (np.corrcoef) ---\n",
        "# ----------------------------------------------------\n",
        "\n",
        "# Correlación entre u y v originales (Generalmente distinta de cero)\n",
        "corr_uv = np.corrcoef(u, v)[0, 1]\n",
        "print(f\"1. Correlación entre u y v originales: {corr_uv:.4f}\")\n",
        "\n",
        "# Correlación entre u_ortogonal y v (Sale lejos de 0 por NO estar centrados)\n",
        "corr_u_ortogonal_v = np.corrcoef(u_ortogonal, v)[0, 1]\n",
        "print(f\"2. Correlación de u_ortogonal y v:     {corr_u_ortogonal_v:.4f}  <-- NO CERO (Esto es lo que te sale)\")\n",
        "\n",
        "# --- 3. CORRECCIÓN: Centrar los vectores antes de correlacionar ---\n",
        "\n",
        "# Centrar u_ortogonal\n",
        "u_ortogonal_centrado = u_ortogonal - np.mean(u_ortogonal)\n",
        "\n",
        "# Centrar v\n",
        "v_centrado = v - np.mean(v)\n",
        "\n",
        "# Correlación de los vectores centrados (¡Ahora sí debe dar CERO!)\n",
        "corr_centrada = np.corrcoef(u_ortogonal_centrado, v_centrado)[0, 1]\n",
        "print(f\"3. Correlación con vectores CENTRADOS: {corr_centrada:.10f}  <-- ¡Correlación CERO!\")"
      ],
      "metadata": {
        "id": "WzASC-ZOIWGn"
      },
      "execution_count": null,
      "outputs": []
    },
    {
      "cell_type": "code",
      "source": [
        "import numpy as np\n",
        "import pandas as pd\n",
        "\n",
        "np.random.seed(2025)\n",
        "# Número de estudiantes\n",
        "n = 10\n",
        "\n",
        "# Dimensiones de salida (2D)\n",
        "dimensiones_baja = 2\n",
        "\n",
        "# Inicializar las coordenadas de baja dimensión (Y) aleatoriamente\n",
        "y_inicial = np.random.randn(n, dimensiones_baja)\n",
        "\n",
        "\n",
        "print(y_inicial)\n",
        "\n",
        "# Calcular la matriz de distancias euclidianas al cuadrado en el espacio de baja dimensión\n",
        "sum_y = np.sum(y_inicial**2, 1)\n",
        "distancias_baja_dimension = np.add(np.add(-2 * np.dot(y_inicial, y_inicial.T), sum_y).T, sum_y)\n",
        "# Matriz de similitudes de baja dimensión (Q)\n",
        "# Sumar 1 a cada elemento de la matriz\n",
        "Q_numerador = 1 / (1 + distancias_baja_dimension)\n",
        "np.fill_diagonal(Q_numerador, 0.)  # La similitud de un punto consigo mismo es 0\n",
        "# Calcular el denominador, la suma de todas las similitudes no diagonales\n",
        "denominador_Q = np.sum(Q_numerador)\n",
        "# Matriz Q final\n",
        "Q_matriz_baja_dimension = pd.DataFrame(Q_numerador / denominador_Q)\n",
        "\n",
        "print(Q_matriz_baja_dimension)\n"
      ],
      "metadata": {
        "id": "Sxl1QqHQ6WS9"
      },
      "execution_count": null,
      "outputs": []
    }
  ]
}